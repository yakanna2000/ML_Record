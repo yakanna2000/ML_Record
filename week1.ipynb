{
 "cells": [
  {
   "cell_type": "code",
   "execution_count": 1,
   "id": "dbafb755-0cb4-4221-9e92-67f616557bb1",
   "metadata": {},
   "outputs": [],
   "source": [
    "import pandas as pd"
   ]
  },
  {
   "cell_type": "code",
   "execution_count": 2,
   "id": "86978a24-6d3e-4078-9d30-2833f3103026",
   "metadata": {},
   "outputs": [],
   "source": [
    "df=pd.read_csv(\"transactions.csv\");"
   ]
  },
  {
   "cell_type": "code",
   "execution_count": 4,
   "id": "1ddfc1b4-1d91-4877-a6ff-76704fd6ac26",
   "metadata": {},
   "outputs": [
    {
     "name": "stdout",
     "output_type": "stream",
     "text": [
      "   TransactionID TransactionDate  UserID  ProductID  Quantity\n",
      "0              1      2010-08-21     7.0          2         1\n",
      "1              2      2011-05-26     3.0          4         1\n",
      "2              3      2011-06-16     3.0          3         1\n",
      "3              4      2012-08-26     1.0          2         3\n",
      "4              5      2013-06-06     2.0          4         1\n"
     ]
    }
   ],
   "source": [
    "print(df.head())"
   ]
  },
  {
   "cell_type": "code",
   "execution_count": 5,
   "id": "ec5dbf6b-7ef4-4da7-ba60-4fb57c92fbe9",
   "metadata": {},
   "outputs": [
    {
     "name": "stdout",
     "output_type": "stream",
     "text": [
      "   TransactionID TransactionDate  UserID  ProductID  Quantity\n",
      "5              6      2013-12-23     2.0          5         6\n",
      "6              7      2013-12-30     3.0          4         1\n",
      "7              8      2014-04-24     NaN          2         3\n",
      "8              9      2015-04-24     7.0          4         3\n",
      "9             10      2016-05-08     3.0          4         4\n"
     ]
    }
   ],
   "source": [
    "print(df.tail())"
   ]
  },
  {
   "cell_type": "code",
   "execution_count": 6,
   "id": "8ed2ac93-8f03-4c34-adb0-dc09e6d39bf6",
   "metadata": {},
   "outputs": [
    {
     "name": "stdout",
     "output_type": "stream",
     "text": [
      "<class 'pandas.core.frame.DataFrame'>\n",
      "RangeIndex: 10 entries, 0 to 9\n",
      "Data columns (total 5 columns):\n",
      " #   Column           Non-Null Count  Dtype  \n",
      "---  ------           --------------  -----  \n",
      " 0   TransactionID    10 non-null     int64  \n",
      " 1   TransactionDate  10 non-null     object \n",
      " 2   UserID           9 non-null      float64\n",
      " 3   ProductID        10 non-null     int64  \n",
      " 4   Quantity         10 non-null     int64  \n",
      "dtypes: float64(1), int64(3), object(1)\n",
      "memory usage: 532.0+ bytes\n",
      "None\n"
     ]
    }
   ],
   "source": [
    "print(df.info())"
   ]
  },
  {
   "cell_type": "code",
   "execution_count": 16,
   "id": "79046473-5fdd-4ad4-a4b9-cece76332276",
   "metadata": {},
   "outputs": [
    {
     "name": "stdout",
     "output_type": "stream",
     "text": [
      "TransactionID                                                     55\n",
      "TransactionDate    2010-08-212011-05-262011-06-162012-08-262013-0...\n",
      "UserID                                                          31.0\n",
      "ProductID                                                         34\n",
      "Quantity                                                          24\n",
      "dtype: object\n"
     ]
    }
   ],
   "source": [
    "print(df.sum());"
   ]
  },
  {
   "cell_type": "code",
   "execution_count": 20,
   "id": "20977b2a-d04b-48c3-a471-bf10aa4e15c9",
   "metadata": {},
   "outputs": [
    {
     "name": "stdout",
     "output_type": "stream",
     "text": [
      "0    7.0\n",
      "1    3.0\n",
      "2    3.0\n",
      "3    1.0\n",
      "4    2.0\n",
      "5    2.0\n",
      "6    3.0\n",
      "7    NaN\n",
      "8    7.0\n",
      "9    3.0\n",
      "Name: UserID, dtype: float64\n"
     ]
    }
   ],
   "source": [
    "print(df[\"UserID\"])"
   ]
  },
  {
   "cell_type": "code",
   "execution_count": 25,
   "id": "d329aed9-9b9c-469c-8fc4-5c6def8991e5",
   "metadata": {},
   "outputs": [
    {
     "name": "stdout",
     "output_type": "stream",
     "text": [
      "   UserID  TransactionID\n",
      "0     7.0              1\n",
      "1     3.0              2\n",
      "2     3.0              3\n",
      "3     1.0              4\n",
      "4     2.0              5\n",
      "5     2.0              6\n",
      "6     3.0              7\n",
      "7     NaN              8\n",
      "8     7.0              9\n",
      "9     3.0             10\n"
     ]
    }
   ],
   "source": [
    "print(df[['UserID', 'TransactionID']])\n"
   ]
  },
  {
   "cell_type": "code",
   "execution_count": 26,
   "id": "b44d84d4-dd73-462e-83a9-90d6700749af",
   "metadata": {},
   "outputs": [
    {
     "name": "stdout",
     "output_type": "stream",
     "text": [
      "TransactionID               2\n",
      "TransactionDate    2011-05-26\n",
      "UserID                    3.0\n",
      "ProductID                   4\n",
      "Quantity                    1\n",
      "Name: 1, dtype: object\n"
     ]
    }
   ],
   "source": [
    "print(df.iloc[1])"
   ]
  },
  {
   "cell_type": "code",
   "execution_count": 29,
   "id": "8aa9ec81-631b-40af-8980-e212d07165c3",
   "metadata": {},
   "outputs": [
    {
     "name": "stdout",
     "output_type": "stream",
     "text": [
      "   TransactionID TransactionDate  UserID  ProductID  Quantity\n",
      "0              1      2010-08-21     7.0          2         1\n",
      "8              9      2015-04-24     7.0          4         3\n"
     ]
    }
   ],
   "source": [
    "filtered_df = df[df['UserID'] >5] \n",
    "print(filtered_df)"
   ]
  },
  {
   "cell_type": "code",
   "execution_count": 32,
   "id": "f763558a-4b47-4c33-82e1-d8989db85cc0",
   "metadata": {},
   "outputs": [
    {
     "name": "stdout",
     "output_type": "stream",
     "text": [
      "   TransactionID TransactionDate  UserID  ProductID  Quant\n",
      "0              1      2010-08-21     7.0          2      1\n",
      "1              2      2011-05-26     3.0          4      1\n",
      "2              3      2011-06-16     3.0          3      1\n",
      "3              4      2012-08-26     1.0          2      3\n",
      "4              5      2013-06-06     2.0          4      1\n"
     ]
    }
   ],
   "source": [
    "df.rename(columns={\"Quantity\": \"Quant\"}, inplace=True)\n",
    "print(df.head())\n",
    "# rename of colums\n"
   ]
  },
  {
   "cell_type": "code",
   "execution_count": 35,
   "id": "9aa5455b-473b-497b-a95c-b5fbb590a731",
   "metadata": {},
   "outputs": [
    {
     "name": "stdout",
     "output_type": "stream",
     "text": [
      "TransactionID      0\n",
      "TransactionDate    0\n",
      "UserID             0\n",
      "ProductID          0\n",
      "Quant              0\n",
      "dtype: int64\n"
     ]
    }
   ],
   "source": [
    "print(df.isnull().sum())"
   ]
  },
  {
   "cell_type": "code",
   "execution_count": 38,
   "id": "dfaf9111-cf39-4083-9063-42f36da353e7",
   "metadata": {},
   "outputs": [
    {
     "name": "stdout",
     "output_type": "stream",
     "text": [
      "   TransactionID TransactionDate    UserID  ProductID  Quant\n",
      "0              1      2010-08-21  7.000000          2      1\n",
      "1              2      2011-05-26  3.000000          4      1\n",
      "2              3      2011-06-16  3.000000          3      1\n",
      "3              4      2012-08-26  1.000000          2      3\n",
      "4              5      2013-06-06  2.000000          4      1\n",
      "5              6      2013-12-23  2.000000          5      6\n",
      "6              7      2013-12-30  3.000000          4      1\n",
      "7              8      2014-04-24  3.444444          2      3\n",
      "8              9      2015-04-24  7.000000          4      3\n",
      "9             10      2016-05-08  3.000000          4      4\n"
     ]
    }
   ],
   "source": [
    "df['UserID'].fillna(df['UserID'].mean(), inplace=True)\n",
    "print(df)\n"
   ]
  },
  {
   "cell_type": "code",
   "execution_count": 39,
   "id": "d96631ea-679b-4371-b6ff-19192a317b42",
   "metadata": {},
   "outputs": [],
   "source": [
    "df.dropna(inplace=True)"
   ]
  },
  {
   "cell_type": "code",
   "execution_count": 42,
   "id": "e4202df3-c810-4784-8aff-b536a61aeb6f",
   "metadata": {},
   "outputs": [
    {
     "name": "stdout",
     "output_type": "stream",
     "text": [
      "   TransactionID TransactionDate    UserID  ProductID  Quant\n",
      "6              7      2013-12-30  3.000000          4      1\n",
      "4              5      2013-06-06  2.000000          4      1\n",
      "2              3      2011-06-16  3.000000          3      1\n",
      "1              2      2011-05-26  3.000000          4      1\n",
      "0              1      2010-08-21  7.000000          2      1\n",
      "8              9      2015-04-24  7.000000          4      3\n",
      "7              8      2014-04-24  3.444444          2      3\n",
      "3              4      2012-08-26  1.000000          2      3\n",
      "9             10      2016-05-08  3.000000          4      4\n",
      "5              6      2013-12-23  2.000000          5      6\n"
     ]
    }
   ],
   "source": [
    "df_sorted = df.sort_values(by=[\"Quant\", \"TransactionID\"], \n",
    "ascending=[True, False])\n",
    "print(df_sorted)\n"
   ]
  },
  {
   "cell_type": "code",
   "execution_count": 50,
   "id": "ea3956a3-1ad3-453f-9e66-54af62434e3a",
   "metadata": {},
   "outputs": [
    {
     "name": "stdout",
     "output_type": "stream",
     "text": [
      "   TransactionID TransactionDate  UserID  ProductID  Quant\n",
      "0              1      2010-08-21     7.0          2      1\n",
      "2              3      2011-06-16     3.0          3      1\n",
      "5              6      2013-12-23     2.0          5      6\n",
      "   TransactionID TransactionDate    UserID  ProductID  Quant\n",
      "3              4      2012-08-26  1.000000          2      3\n",
      "7              8      2014-04-24  3.444444          2      3\n",
      "8              9      2015-04-24  7.000000          4      3\n"
     ]
    }
   ],
   "source": [
    "subset_rows = df.iloc[[0, 2, 5]] \n",
    "print(subset_rows)\n",
    "subset = df[(df['Quant'] > 1) & (df['Quant'] < 4)]\n",
    "print(subset)\n"
   ]
  },
  {
   "cell_type": "code",
   "execution_count": 51,
   "id": "cb36aff6-8b53-440d-ae50-06ae6f02961e",
   "metadata": {},
   "outputs": [
    {
     "name": "stdout",
     "output_type": "stream",
     "text": [
      "   TransactionID TransactionDate\n",
      "3              4      2012-08-26\n",
      "5              6      2013-12-23\n",
      "7              8      2014-04-24\n",
      "8              9      2015-04-24\n",
      "9             10      2016-05-08\n"
     ]
    }
   ],
   "source": [
    "subset = df[df['Quant'] > 1][['TransactionID', \n",
    "'TransactionDate']]\n",
    "print(subset)"
   ]
  },
  {
   "cell_type": "code",
   "execution_count": 52,
   "id": "76d347b9-7cb1-4b60-a596-258f83b4ceac",
   "metadata": {},
   "outputs": [
    {
     "ename": "SyntaxError",
     "evalue": "invalid syntax (903498214.py, line 1)",
     "output_type": "error",
     "traceback": [
      "\u001b[1;36m  Cell \u001b[1;32mIn[52], line 1\u001b[1;36m\u001b[0m\n\u001b[1;33m    Code:\u001b[0m\n\u001b[1;37m         ^\u001b[0m\n\u001b[1;31mSyntaxError\u001b[0m\u001b[1;31m:\u001b[0m invalid syntax\n"
     ]
    }
   ],
   "source": [
    "Code:\n",
    "foo = [True, False, True, False] # Example of a boolean array\n",
    "subset_rows = df[foo]\n",
    "print(subset_rows)\n",
    "\n",
    "True means keep this row\n",
    "\n",
    "False means skip this row"
   ]
  },
  {
   "cell_type": "code",
   "execution_count": 53,
   "id": "31c7f8fd-ee64-4346-a3ed-443391eb154a",
   "metadata": {},
   "outputs": [
    {
     "name": "stdout",
     "output_type": "stream",
     "text": [
      "   TransactionID TransactionDate\n",
      "0              1      2010-08-21\n",
      "1              2      2011-05-26\n",
      "2              3      2011-06-16\n",
      "3              4      2012-08-26\n",
      "4              5      2013-06-06\n",
      "5              6      2013-12-23\n",
      "6              7      2013-12-30\n",
      "7              8      2014-04-24\n",
      "8              9      2015-04-24\n",
      "9             10      2016-05-08\n"
     ]
    }
   ],
   "source": [
    "columns_to_select = ['TransactionID', 'TransactionDate']\n",
    "subset_columns = df[columns_to_select]\n",
    "print(subset_columns)"
   ]
  },
  {
   "cell_type": "code",
   "execution_count": 54,
   "id": "80912556-09e5-438a-a722-3f10e87fda0b",
   "metadata": {},
   "outputs": [
    {
     "name": "stdout",
     "output_type": "stream",
     "text": [
      "   TransactionID TransactionDate    UserID\n",
      "0              1      2010-08-21  7.000000\n",
      "1              2      2011-05-26  3.000000\n",
      "2              3      2011-06-16  3.000000\n",
      "3              4      2012-08-26  1.000000\n",
      "4              5      2013-06-06  2.000000\n",
      "5              6      2013-12-23  2.000000\n",
      "6              7      2013-12-30  3.000000\n",
      "7              8      2014-04-24  3.444444\n",
      "8              9      2015-04-24  7.000000\n",
      "9             10      2016-05-08  3.000000\n"
     ]
    }
   ],
   "source": [
    "columns_to_exclude = ['Quant', 'ProductID']\n",
    "subset_columns_excluded = df[[col for col in df.columns if col not \n",
    "in columns_to_exclude]]\n",
    "print(subset_columns_excluded)\n"
   ]
  },
  {
   "cell_type": "code",
   "execution_count": 55,
   "id": "416f02fe-3278-42b3-be05-684466430ac2",
   "metadata": {},
   "outputs": [
    {
     "name": "stdout",
     "output_type": "stream",
     "text": [
      "TransactionID               int64\n",
      "TransactionDate    datetime64[ns]\n",
      "UserID                    float64\n",
      "ProductID                   int64\n",
      "Quant                       int64\n",
      "dtype: object\n"
     ]
    }
   ],
   "source": [
    "df['TransactionDate'] = pd.to_datetime(df['TransactionDate']) \n",
    "print(df.dtypes)"
   ]
  },
  {
   "cell_type": "code",
   "execution_count": 56,
   "id": "053693c1-28e7-40a9-90d7-7fd25388f935",
   "metadata": {},
   "outputs": [
    {
     "name": "stdout",
     "output_type": "stream",
     "text": [
      "   TransactionID TransactionDate  UserID  ProductID  Quant  Foo\n",
      "0              1      2010-08-21     7.0          2      1  9.0\n",
      "1              2      2011-05-26     3.0          4      1  7.0\n",
      "2              3      2011-06-16     3.0          3      1  6.0\n",
      "3              4      2012-08-26     1.0          2      3  3.0\n",
      "4              5      2013-06-06     2.0          4      1  6.0\n"
     ]
    }
   ],
   "source": [
    "df['Foo'] = df['UserID'] + df['ProductID']\n",
    "print(df.head())"
   ]
  },
  {
   "cell_type": "code",
   "execution_count": null,
   "id": "6e67b7c6-e6e6-4127-a05a-50a1f8403e4e",
   "metadata": {},
   "outputs": [],
   "source": [
    "\n",
    "\n",
    "\n",
    "\n",
    "\n",
    "\n",
    "\n"
   ]
  },
  {
   "cell_type": "code",
   "execution_count": null,
   "id": "515bfd70-a460-4e57-9966-c5d9bc08cd54",
   "metadata": {},
   "outputs": [],
   "source": []
  },
  {
   "cell_type": "code",
   "execution_count": null,
   "id": "0443cc11-ab50-476a-a5b2-115b0fdbce62",
   "metadata": {},
   "outputs": [],
   "source": [
    "\n"
   ]
  },
  {
   "cell_type": "code",
   "execution_count": 66,
   "id": "f5c6cb87-4c6a-4fcb-b3fe-2eb11242f235",
   "metadata": {},
   "outputs": [],
   "source": [
    "df['TransactionDate'] = pd.to_datetime(df['TransactionDate'])\n"
   ]
  },
  {
   "cell_type": "code",
   "execution_count": 67,
   "id": "a4f16bed-d3a1-413e-bfd2-403581278bdf",
   "metadata": {},
   "outputs": [],
   "source": [
    "df['TransactionDate'] = df['TransactionDate'].dt.date\n"
   ]
  },
  {
   "cell_type": "code",
   "execution_count": 68,
   "id": "b3abe7e9-8b1b-4e9d-bbd0-f1e332861641",
   "metadata": {},
   "outputs": [
    {
     "name": "stdout",
     "output_type": "stream",
     "text": [
      "   TransactionID TransactionDate    UserID  ProductID  Quant        Foo\n",
      "0              1      2010-08-21  7.000000          2      1   9.000000\n",
      "1              2      2011-05-26  3.000000          4      1   7.000000\n",
      "2              3      2011-06-16  3.000000          3      1   6.000000\n",
      "3              4      2012-08-26  1.000000          2      3   3.000000\n",
      "4              5      2013-06-06  2.000000          4      1   6.000000\n",
      "5              6      2013-12-23  2.000000          5      6   7.000000\n",
      "6              7      2013-12-30  3.000000          4      1   7.000000\n",
      "7              8      2014-04-24  3.444444          2      3   5.444444\n",
      "8              9      2015-04-24  7.000000          4      3  11.000000\n",
      "9             10      2016-05-08  3.000000          4      4   7.000000\n"
     ]
    }
   ],
   "source": [
    "print(df)\n"
   ]
  },
  {
   "cell_type": "code",
   "execution_count": null,
   "id": "6001193f-aaba-4c0b-9920-22775fc1cd6c",
   "metadata": {},
   "outputs": [],
   "source": [
    "Updating Existing Values\n",
    "Code:\n",
    "df.loc[df['UserID'] == 2, 'Quantity'] = new_quantity_value"
   ]
  },
  {
   "cell_type": "code",
   "execution_count": 70,
   "id": "d57f6c75-a26c-429c-8e7e-7ca3fdf7d443",
   "metadata": {},
   "outputs": [],
   "source": [
    "df['TransactionDate'] = pd.to_datetime(df['TransactionDate'])"
   ]
  },
  {
   "cell_type": "code",
   "execution_count": 73,
   "id": "29f09dae-449e-4b32-989b-c37fab61f9ec",
   "metadata": {},
   "outputs": [
    {
     "name": "stdout",
     "output_type": "stream",
     "text": [
      "   TransactionID TransactionDate    UserID  ProductID  Quant        Foo\n",
      "0              1      2010-08-21  7.000000          2      1   9.000000\n",
      "1              2      2011-05-26  3.000000          4      1   7.000000\n",
      "2              3      2011-06-16  3.000000          3      1   6.000000\n",
      "3              4      2012-08-26  1.000000          2      3   3.000000\n",
      "4              5      2013-06-06  2.000000          4      1   6.000000\n",
      "5              6      2013-12-23  2.000000          5      6   7.000000\n",
      "6              7      2013-12-30  3.000000          4      1   7.000000\n",
      "7              8      2014-04-24  3.444444          2      3   5.444444\n",
      "8              9      2015-04-24  7.000000          4      3  11.000000\n",
      "9             10      2016-05-08  3.000000          4      4   7.000000\n"
     ]
    }
   ],
   "source": [
    "print(df)"
   ]
  },
  {
   "cell_type": "code",
   "execution_count": 5,
   "id": "993a72c0-9b14-4935-a3ba-6b71c31b1a77",
   "metadata": {},
   "outputs": [],
   "source": [
    "import pandas as pd\n",
    "\n",
    "df = pd.read_csv(\"transactions.csv\")\n",
    "\n"
   ]
  },
  {
   "cell_type": "code",
   "execution_count": 8,
   "id": "3a447389-19fb-4509-b33f-d7721f453484",
   "metadata": {},
   "outputs": [
    {
     "name": "stdout",
     "output_type": "stream",
     "text": [
      "   TransactionID TransactionDate  UserID  ProductID  Quantity\n",
      "0              1      2010-08-21     7.0          2         1\n",
      "1              2      2011-05-26     3.0          4         1\n",
      "2              3      2011-06-16     3.0          3         1\n",
      "3              4      2012-08-26     1.0          2         3\n",
      "4              5      2013-06-06     2.0          4         1\n",
      "5              6      2013-12-23     2.0          5         6\n",
      "6              7      2013-12-30     3.0          4         1\n",
      "7              8      2014-04-24     NaN          2         3\n",
      "8              9      2015-04-24     7.0          4         3\n",
      "9             10      2016-05-08     3.0          4         4\n"
     ]
    }
   ],
   "source": [
    "df.drop(columns=['Foo'], inplace=True,errors='ignore')\n",
    "print(df)\n"
   ]
  },
  {
   "cell_type": "code",
   "execution_count": 7,
   "id": "6c94d42b-5129-4eb4-b8f1-4ffbf6bf6ff8",
   "metadata": {},
   "outputs": [
    {
     "name": "stdout",
     "output_type": "stream",
     "text": [
      "Index(['TransactionID', 'TransactionDate', 'UserID', 'ProductID', 'Quantity'], dtype='object')\n"
     ]
    }
   ],
   "source": [
    "print(df.columns)\n"
   ]
  },
  {
   "cell_type": "code",
   "execution_count": 9,
   "id": "8700d043-5e65-4d82-a055-f601198be567",
   "metadata": {},
   "outputs": [
    {
     "name": "stdout",
     "output_type": "stream",
     "text": [
      "5\n"
     ]
    }
   ],
   "source": [
    "print(df.shape[1])"
   ]
  },
  {
   "cell_type": "code",
   "execution_count": 10,
   "id": "59760e94-1347-45fa-a275-868d48b2388a",
   "metadata": {},
   "outputs": [
    {
     "name": "stdout",
     "output_type": "stream",
     "text": [
      "10\n"
     ]
    }
   ],
   "source": [
    "print(df.shape[0])"
   ]
  },
  {
   "cell_type": "code",
   "execution_count": 17,
   "id": "dc94b376-3ba4-4c48-8bfa-1e70033a26d7",
   "metadata": {},
   "outputs": [
    {
     "name": "stdout",
     "output_type": "stream",
     "text": [
      "[ 7.  3.  3.  1.  2.  2.  3. nan  7.  3.]\n"
     ]
    }
   ],
   "source": [
    " print(df['UserID'].values)\n",
    "# product_array = df['PID'].to_numpy()"
   ]
  },
  {
   "cell_type": "code",
   "execution_count": null,
   "id": "520b99d3-6af5-4a76-928d-6596f39663b1",
   "metadata": {},
   "outputs": [],
   "source": [
    "✅ 1. Print Summary of Transaction Dataset\n",
    "\n",
    "print(df.describe(include='all'))\n",
    "✅ 2. Number of Attributes\n",
    "\n",
    "print(df.shape[1])  # Columns count\n",
    "✅ 3. Number of Records\n",
    "\n",
    "print(df.shape[0])  # Rows count\n",
    "✅ 4. Get Row Names\n",
    "\n",
    "print(df.index.tolist())\n",
    "✅ 5. Get Column Names\n",
    "\n",
    "print(df.columns.tolist())\n",
    "✅ 6. View Top 10 Records\n",
    "\n",
    "print(df.head(10))\n",
    "✅ 7. Rename “Quantity” to “Quant”\n",
    "\n",
    "df.rename(columns={'Quantity': 'Quant'}, inplace=True)\n",
    "✅ 8. Rename “ProductID” to “PID” and “UserID” to “UID”\n",
    "\n",
    "df.rename(columns={'ProductID': 'PID', 'UserID': 'UID'}, inplace=True)\n",
    "✅ 9. Order by TransactionID (Descending)\n",
    "\n",
    "df.sort_values(by='TransactionID', ascending=False)\n",
    "✅ 10. Order by Quant (Ascending) and TransactionDate (Descending)\n",
    "\n",
    "df.sort_values(by=['Quant', 'TransactionDate'], ascending=[True, False])\n",
    "✅ 11. Set Column Order: PID, Quant, TransactionDate, TransactionID, UID\n",
    "\n",
    "df = df[['PID', 'Quant', 'TransactionDate', 'TransactionID', 'UID']]\n",
    "✅ 12. Make UID the First Column\n",
    "\n",
    "df = df[['UID', 'TransactionID', 'TransactionDate', 'PID', 'Quant']]\n",
    "✅ 13. Get the 2nd Column (TransactionDate)\n",
    "\n",
    "second_column = df.iloc[:, 1]\n",
    "✅ 14. Get ProductID Array\n",
    "\n",
    "pid_array = df['PID'].values\n",
    "✅ 15. Same ProductID using Variable\n",
    "\n",
    "product_array = df['PID'].to_numpy()\n",
    "✅ 16. Subset Rows 1, 3, 6\n",
    "\n",
    "df.iloc[[0, 2, 5]]\n",
    "✅ 17. Subset Rows Excluding 1, 3, 6\n",
    "\n",
    "df.drop(index=[0, 2, 5], errors='ignore')\n",
    "✅ 18. First 3 Rows\n",
    "\n",
    "df.head(3)\n",
    "✅ 19. Last 2 Rows\n",
    "\n",
    "df.tail(2)\n",
    "✅ 20. Exclude Last 2 Rows\n",
    "\n",
    "df.iloc[:-2]\n",
    "✅ 21. Exclude First 3 Rows\n",
    "\n",
    "df.iloc[3:]\n",
    "✅ 22. Rows Where Quant > 1\n",
    "\n",
    "df[df['Quant'] > 1]\n",
    "✅ 23. Rows Where UID = 2\n",
    "\n",
    "df[df['UID'] == 2]\n",
    "✅ 24. Quant > 1 and UID = 2\n",
    "\n",
    "df[(df['Quant'] > 1) & (df['UID'] == 2)]\n",
    "✅ 25. Quant + UID > 3\n",
    "\n",
    "df[(df['Quant'] + df['UID']) > 3]\n",
    "✅ 26. Subset Rows where foo is True\n",
    "\n",
    "foo = np.array([True, False, True, False, True])\n",
    "df[foo[:df.shape[0]]]\n",
    "✅ 27. Subset Rows where bar is Positive\n",
    "\n",
    "bar = np.array([1, -1, 2, -2, 3])\n",
    "df[bar[:df.shape[0]] > 0]\n",
    "✅ 28. foo is True or bar is Negative\n",
    "\n",
    "df[(foo[:df.shape[0]]) | (bar[:df.shape[0]] < 0)]\n",
    "✅ 29. NOT foo and NOT bar Negative\n",
    "\n",
    "df[(~foo[:df.shape[0]]) & ~(bar[:df.shape[0]] < 0)]\n",
    "✅ 30. Subset Columns 1 and 3\n",
    "\n",
    "df.iloc[:, [0, 2]]\n",
    "✅ 31. Subset by TransactionID and TransactionDate\n",
    "\n",
    "df[['TransactionID', 'TransactionDate']]\n",
    "✅ 32. Subset using Logical Operator\n",
    "\n",
    "df.loc[:, (df.columns == 'TransactionID') | (df.columns == 'TransactionDate')]\n",
    "✅ 33. Subset by Variable List\n",
    "\n",
    "cols = ['UID', 'Quant']\n",
    "df[cols]\n",
    "✅ 34. Exclude Variable List\n",
    "\n",
    "exclude_cols = ['UID', 'Quant']\n",
    "df[[col for col in df.columns if col not in exclude_cols]]\n",
    "✅ 35. Insert & Update Values (set UID of 1st row to 100)\n",
    "\n",
    "df.at[0, 'UID'] = 100\n",
    "✅ 36. Convert TransactionDate to Date Type\n",
    "\n",
    "df['TransactionDate'] = pd.to_datetime(df['TransactionDate']).dt.date\n",
    "✅ 37. Insert Column Foo = UID + PID\n",
    "\n",
    "df['Foo'] = df['UID'] + df['PID']"
   ]
  },
  {
   "cell_type": "code",
   "execution_count": null,
   "id": "19e9e1c4-ed22-46f4-88cd-bec9d935db44",
   "metadata": {},
   "outputs": [],
   "source": []
  },
  {
   "cell_type": "code",
   "execution_count": null,
   "id": "b65e6fc1-c56b-46cd-8d67-89af50cac40b",
   "metadata": {},
   "outputs": [],
   "source": []
  }
 ],
 "metadata": {
  "kernelspec": {
   "display_name": "Python 3 (ipykernel)",
   "language": "python",
   "name": "python3"
  },
  "language_info": {
   "codemirror_mode": {
    "name": "ipython",
    "version": 3
   },
   "file_extension": ".py",
   "mimetype": "text/x-python",
   "name": "python",
   "nbconvert_exporter": "python",
   "pygments_lexer": "ipython3",
   "version": "3.11.7"
  }
 },
 "nbformat": 4,
 "nbformat_minor": 5
}
